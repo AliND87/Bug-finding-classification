{
  "nbformat": 4,
  "nbformat_minor": 0,
  "metadata": {
    "colab": {
      "name": "MLHW1.ipynb",
      "provenance": [],
      "collapsed_sections": [],
      "toc_visible": true
    },
    "kernelspec": {
      "name": "python3",
      "display_name": "Python 3"
    },
    "language_info": {
      "name": "python"
    }
  },
  "cells": [
    {
      "cell_type": "code",
      "metadata": {
        "id": "Qoe5enXhpBOU"
      },
      "source": [
        "# -- coding: utf-8 -- "
      ],
      "execution_count": 146,
      "outputs": []
    },
    {
      "cell_type": "markdown",
      "metadata": {
        "id": "4c1L36Vpyopj"
      },
      "source": [
        "Machine learning HW1\n",
        "*   Nome : Ali\n",
        "*   Cognome :Nosouhi Dehnavi\n",
        "*   Matricola: 1950716\n",
        "*   Email : nosouhidehnavi.1950716@studenti.uniroma1.it\n",
        "*   14 November 2021\n",
        "\n",
        "\n",
        "\n"
      ]
    },
    {
      "cell_type": "code",
      "metadata": {
        "colab": {
          "base_uri": "https://localhost:8080/"
        },
        "id": "1Id9ojbV2wNX",
        "outputId": "477c97c5-df21-4ce2-e0ec-93c350f6fbb1"
      },
      "source": [
        "import random\n",
        "import numpy as np\n",
        "import pandas as pd\n",
        "import nltk\n",
        "import re\n",
        "import sklearn.metrics \n",
        "from sklearn import datasets\n",
        "from sklearn.model_selection import train_test_split, cross_val_score, ShuffleSplit, GridSearchCV\n",
        "from sklearn import svm\n",
        "from sklearn import tree\n",
        "from sklearn.ensemble import RandomForestClassifier\n",
        "from sklearn.metrics import accuracy_score\n",
        "from sklearn.metrics import classification_report\n",
        "from sklearn.naive_bayes import *\n",
        "from sklearn.linear_model import LogisticRegression\n",
        "from sklearn.metrics import classification_report, confusion_matrix\n",
        "from sklearn.utils.multiclass import unique_labels\n",
        "from sklearn.feature_extraction.text import *\n",
        "import matplotlib.pyplot as plt\n",
        "nltk.download('punkt')\n",
        "import time"
      ],
      "execution_count": 1,
      "outputs": [
        {
          "output_type": "stream",
          "name": "stdout",
          "text": [
            "[nltk_data] Downloading package punkt to /root/nltk_data...\n",
            "[nltk_data]   Unzipping tokenizers/punkt.zip.\n"
          ]
        }
      ]
    },
    {
      "cell_type": "code",
      "metadata": {
        "colab": {
          "base_uri": "https://localhost:8080/"
        },
        "id": "LDo1xchy5mRF",
        "outputId": "29318644-f187-4895-a9c3-4856edda48cc"
      },
      "source": [
        "def plot_confusion_matrix(y_true, y_pred, classes,\n",
        "                          normalize=False,\n",
        "                          title=None,\n",
        "                          cmap=plt.cm.Blues):\n",
        "    \"\"\"\n",
        "    This function prints and plots the confusion matrix.\n",
        "    Normalization can be applied by setting `normalize=True`.\n",
        "    \"\"\"\n",
        "    if not title:\n",
        "        if normalize:\n",
        "            title = 'Normalized confusion matrix'\n",
        "        else:\n",
        "            title = 'Confusion matrix, without normalization'\n",
        "\n",
        "    # Compute confusion matrix\n",
        "    cm = confusion_matrix(y_true, y_pred)\n",
        "    # Only use the labels that appear in the data\n",
        "    classes = classes[unique_labels(y_true, y_pred)]\n",
        "    if normalize:\n",
        "        cm = cm.astype('float') / cm.sum(axis=1)[:, np.newaxis]\n",
        "        #print(\"Normalized confusion matrix\")\n",
        "    else:\n",
        "        pass\n",
        "        #print('Confusion matrix, without normalization')\n",
        "\n",
        "    #print(cm)\n",
        "\n",
        "    fig, ax = plt.subplots()\n",
        "    im = ax.imshow(cm, interpolation='nearest', cmap=cmap)\n",
        "    ax.figure.colorbar(im, ax=ax)\n",
        "    # We want to show all ticks...\n",
        "    ax.set(xticks=np.arange(cm.shape[1]),\n",
        "           yticks=np.arange(cm.shape[0]),\n",
        "           # ... and label them with the respective list entries\n",
        "           xticklabels=classes, yticklabels=classes,\n",
        "           title=title,\n",
        "           ylabel='True label',\n",
        "           xlabel='Predicted label')\n",
        "\n",
        "    ax.set_ylim(len(classes)-0.5, -0.5)\n",
        "\n",
        "    # Rotate the tick labels and set their alignment.\n",
        "    plt.setp(ax.get_xticklabels(), rotation=45, ha=\"right\",\n",
        "             rotation_mode=\"anchor\")\n",
        "\n",
        "    # Loop over data dimensions and create text annotations.\n",
        "    fmt = '.2f' if normalize else 'd'\n",
        "    thresh = cm.max() / 2.\n",
        "    for i in range(cm.shape[0]):\n",
        "        for j in range(cm.shape[1]):\n",
        "            ax.text(j, i, format(cm[i, j], fmt),\n",
        "                    ha=\"center\", va=\"center\",\n",
        "                    color=\"white\" if cm[i, j] > thresh else \"black\")\n",
        "    fig.tight_layout()\n",
        "    return ax\n",
        "\n",
        "print(\"Libraries imported.\")"
      ],
      "execution_count": 2,
      "outputs": [
        {
          "output_type": "stream",
          "name": "stdout",
          "text": [
            "Libraries imported.\n"
          ]
        }
      ]
    },
    {
      "cell_type": "code",
      "metadata": {
        "id": "dQyK0w5gzMuo"
      },
      "source": [
        "def vectorize(tokens):\n",
        "    vector=[]\n",
        "    voc=vocab_without_sw\n",
        "    for w in voc:\n",
        "        vector.append(tokens.count(w))\n",
        "    return vector\n",
        "\n",
        "def unique(sequence):\n",
        "    #This functions returns a list in which the order remains same and no item repeats\n",
        "    seen = set()\n",
        "    return [x for x in sequence if not (x in seen or seen.add(x))]"
      ],
      "execution_count": 3,
      "outputs": []
    },
    {
      "cell_type": "markdown",
      "metadata": {
        "id": "xRYSS8OSYUz1"
      },
      "source": [
        "LOAD DATA"
      ]
    },
    {
      "cell_type": "code",
      "metadata": {
        "colab": {
          "base_uri": "https://localhost:8080/"
        },
        "id": "3d63ZgE3-gNG",
        "outputId": "bdd8b35f-a389-4060-90a8-811d87539aa0"
      },
      "source": [
        "from google.colab import drive\n",
        "drive.mount('/content/drive')"
      ],
      "execution_count": 4,
      "outputs": [
        {
          "output_type": "stream",
          "name": "stdout",
          "text": [
            "Drive already mounted at /content/drive; to attempt to forcibly remount, call drive.mount(\"/content/drive\", force_remount=True).\n"
          ]
        }
      ]
    },
    {
      "cell_type": "code",
      "metadata": {
        "colab": {
          "base_uri": "https://localhost:8080/"
        },
        "id": "mGQUfI4L-mhs",
        "outputId": "fbf01b45-3c48-4fbf-c1fb-1e9299ee5766"
      },
      "source": [
        "# example path of dataset copied in My Drive folder: /content/drive/My Drive/SMSSpamCollection'\n",
        "filename = '/content/drive/My Drive/MLHomeWork/mapping_traces_O0.csv'\n",
        "db = pd.read_csv(filename, sep='\\t', header=0 )\n",
        "print(len(db))"
      ],
      "execution_count": 5,
      "outputs": [
        {
          "output_type": "stream",
          "name": "stdout",
          "text": [
            "100000\n"
          ]
        }
      ]
    },
    {
      "cell_type": "code",
      "metadata": {
        "colab": {
          "base_uri": "https://localhost:8080/",
          "height": 110
        },
        "id": "3kwzq8MBLdYs",
        "outputId": "71f638b3-a513-44cf-9722-07b8c815c660"
      },
      "source": [
        "db.head(2)"
      ],
      "execution_count": 6,
      "outputs": [
        {
          "output_type": "execute_result",
          "data": {
            "text/html": [
              "<div>\n",
              "<style scoped>\n",
              "    .dataframe tbody tr th:only-of-type {\n",
              "        vertical-align: middle;\n",
              "    }\n",
              "\n",
              "    .dataframe tbody tr th {\n",
              "        vertical-align: top;\n",
              "    }\n",
              "\n",
              "    .dataframe thead th {\n",
              "        text-align: right;\n",
              "    }\n",
              "</style>\n",
              "<table border=\"1\" class=\"dataframe\">\n",
              "  <thead>\n",
              "    <tr style=\"text-align: right;\">\n",
              "      <th></th>\n",
              "      <th>instructions</th>\n",
              "      <th>source_line</th>\n",
              "      <th>line_number</th>\n",
              "      <th>function_name</th>\n",
              "      <th>program</th>\n",
              "      <th>bug</th>\n",
              "    </tr>\n",
              "  </thead>\n",
              "  <tbody>\n",
              "    <tr>\n",
              "      <th>0</th>\n",
              "      <td>movl HIGHVAL l 19 1</td>\n",
              "      <td>int32t  l  19 1  = ( -8 ) ;</td>\n",
              "      <td>2517</td>\n",
              "      <td>func_47__0</td>\n",
              "      <td>/home/stepping/data_source_asm_trace_p2/proces...</td>\n",
              "      <td>0</td>\n",
              "    </tr>\n",
              "    <tr>\n",
              "      <th>1</th>\n",
              "      <td>movl HIGHVAL l 82 6</td>\n",
              "      <td>int32t  l  25 73  = ( -1 ) ;</td>\n",
              "      <td>1994</td>\n",
              "      <td>func_25__0</td>\n",
              "      <td>/home/stepping/data_source_asm_trace_p2/proces...</td>\n",
              "      <td>1</td>\n",
              "    </tr>\n",
              "  </tbody>\n",
              "</table>\n",
              "</div>"
            ],
            "text/plain": [
              "           instructions  ... bug\n",
              "0  movl HIGHVAL l 19 1   ...   0\n",
              "1  movl HIGHVAL l 82 6   ...   1\n",
              "\n",
              "[2 rows x 6 columns]"
            ]
          },
          "metadata": {},
          "execution_count": 6
        }
      ]
    },
    {
      "cell_type": "code",
      "metadata": {
        "colab": {
          "base_uri": "https://localhost:8080/"
        },
        "id": "DVN8BlU7tAX0",
        "outputId": "c7289647-e85a-4962-d852-f0241f340c5c"
      },
      "source": [
        "# save the list of labels names'\n",
        "list_of_column_names = list(db.columns)\n",
        "class_names = np.array([\"not \"+str(list_of_column_names[-1]),str(list_of_column_names[-1])])\n",
        "print(class_names)"
      ],
      "execution_count": 7,
      "outputs": [
        {
          "output_type": "stream",
          "name": "stdout",
          "text": [
            "['not bug' 'bug']\n"
          ]
        }
      ]
    },
    {
      "cell_type": "code",
      "metadata": {
        "colab": {
          "base_uri": "https://localhost:8080/"
        },
        "id": "nWriiX03kQlS",
        "outputId": "09948ba7-bca7-46e3-d78c-ee1522c5c1ba"
      },
      "source": [
        "# example path of dataset copied in My Drive folder: /content/drive/My Drive/SMSSpamCollection'\n",
        "filename = '/content/drive/My Drive/MLHomeWork/blind_test.csv'\n",
        "db_blind = pd.read_csv(filename, sep='\\t', header=0 )\n",
        "print(len(db_blind))"
      ],
      "execution_count": 8,
      "outputs": [
        {
          "output_type": "stream",
          "name": "stdout",
          "text": [
            "10000\n"
          ]
        }
      ]
    },
    {
      "cell_type": "code",
      "metadata": {
        "colab": {
          "base_uri": "https://localhost:8080/",
          "height": 126
        },
        "id": "bFrVeOiNXL6l",
        "outputId": "49a56828-8db0-4b94-99c8-de90b8f556ee"
      },
      "source": [
        "db_blind.head(2)"
      ],
      "execution_count": 9,
      "outputs": [
        {
          "output_type": "execute_result",
          "data": {
            "text/html": [
              "<div>\n",
              "<style scoped>\n",
              "    .dataframe tbody tr th:only-of-type {\n",
              "        vertical-align: middle;\n",
              "    }\n",
              "\n",
              "    .dataframe tbody tr th {\n",
              "        vertical-align: top;\n",
              "    }\n",
              "\n",
              "    .dataframe thead th {\n",
              "        text-align: right;\n",
              "    }\n",
              "</style>\n",
              "<table border=\"1\" class=\"dataframe\">\n",
              "  <thead>\n",
              "    <tr style=\"text-align: right;\">\n",
              "      <th></th>\n",
              "      <th>instructions</th>\n",
              "      <th>source_line</th>\n",
              "      <th>line_number</th>\n",
              "      <th>function_name</th>\n",
              "      <th>program</th>\n",
              "    </tr>\n",
              "  </thead>\n",
              "  <tbody>\n",
              "    <tr>\n",
              "      <th>0</th>\n",
              "      <td>movl HIGHVAL MEM cmpl 7 MEM jne MEM</td>\n",
              "      <td>volatile int32t  l  48 76  = 0 ;</td>\n",
              "      <td>1903</td>\n",
              "      <td>func_1__0</td>\n",
              "      <td>/home/stepping/data_source_asm_trace_p2/proces...</td>\n",
              "    </tr>\n",
              "    <tr>\n",
              "      <th>1</th>\n",
              "      <td>movl MEM %eax subl 1 %eax movl %eax MEM jmp ME...</td>\n",
              "      <td>for (  p  81  = 0 ; (  p  81  &gt; = 0 ) ;  p  81...</td>\n",
              "      <td>2238</td>\n",
              "      <td>func_80__0</td>\n",
              "      <td>/home/stepping/data_source_asm_trace_p2/proces...</td>\n",
              "    </tr>\n",
              "  </tbody>\n",
              "</table>\n",
              "</div>"
            ],
            "text/plain": [
              "                                        instructions  ...                                            program\n",
              "0               movl HIGHVAL MEM cmpl 7 MEM jne MEM   ...  /home/stepping/data_source_asm_trace_p2/proces...\n",
              "1  movl MEM %eax subl 1 %eax movl %eax MEM jmp ME...  ...  /home/stepping/data_source_asm_trace_p2/proces...\n",
              "\n",
              "[2 rows x 5 columns]"
            ]
          },
          "metadata": {},
          "execution_count": 9
        }
      ]
    },
    {
      "cell_type": "markdown",
      "metadata": {
        "id": "QS_LnxbMYcLg"
      },
      "source": [
        "PREPROCESS main Dataset"
      ]
    },
    {
      "cell_type": "code",
      "metadata": {
        "id": "kXVtpPEvAGRD"
      },
      "source": [
        "dataset=np.array(db)\n",
        "X=dataset[:,0:2]\n",
        "Y=dataset[:,-1]\n"
      ],
      "execution_count": 10,
      "outputs": []
    },
    {
      "cell_type": "code",
      "metadata": {
        "colab": {
          "base_uri": "https://localhost:8080/"
        },
        "id": "PQ_J2m6jzSNi",
        "outputId": "8a85aa70-fe14-4e9b-90e0-43864f80a6f7"
      },
      "source": [
        "#VOCAB:\n",
        "vocab=[]\n",
        "string1=\"\"\n",
        "string2=\"\"\n",
        "for i in range(len(X)):\n",
        "  s1=X[i,0]\n",
        "  string1=string1+s1\n",
        "  s2=X[i,1]\n",
        "  string2=string2+s2\n",
        "\n",
        "string1=string1.lower()\n",
        "string2=string2.lower()\n",
        "\n",
        "tokens1=string1.split()\n",
        "tokens2=string2.split()\n",
        "print(np.shape(tokens1))\n",
        "print(np.shape(tokens2))\n",
        "\n",
        "vocab.append(unique(tokens1+tokens2))\n",
        "\n",
        "print(\"vocab shape is \",np.shape(vocab))\n",
        "vocab=np.concatenate(vocab)\n",
        "\n",
        "#Clean Vocab:\n",
        "from gensim.parsing.preprocessing import STOPWORDS\n",
        "#,'mov','='\n",
        "all_stopwords_gensim = STOPWORDS.union(set((['!','(',')','-','[',']','{','}',';',':','\"','<','>','.','/','?','@','#','$','^','&','*','_','~','<','>','+','%'])))\n",
        "vocab_without_sw=[]\n",
        "for word in vocab:\n",
        "  for t in all_stopwords_gensim:\n",
        "    if t in word:\n",
        "      fl=0\n",
        "      break\n",
        "    else:\n",
        "      fl=1  \n",
        "  if fl==1:\n",
        "    vocab_without_sw.append(word)\n",
        "#vocab_without_sw = [word for word in vocab if not t in word]\n",
        "\n",
        "print(\"after cleaning vocab shape is \",np.shape(vocab_without_sw))"
      ],
      "execution_count": 11,
      "outputs": [
        {
          "output_type": "stream",
          "name": "stdout",
          "text": [
            "(2709193,)\n",
            "(3667828,)\n",
            "vocab shape is  (1, 1811)\n",
            "after cleaning vocab shape is  (957,)\n"
          ]
        }
      ]
    },
    {
      "cell_type": "code",
      "metadata": {
        "colab": {
          "base_uri": "https://localhost:8080/"
        },
        "id": "5l9zNu-jz3Hm",
        "outputId": "a80cc82f-9784-45bd-e25a-091291405e21"
      },
      "source": [
        "#Vectorize Main Dataset:\n",
        "seq=[]\n",
        "for sentence in X:\n",
        "  tok=sentence[0]+sentence[1]\n",
        "  tok=tok.lower()\n",
        "  tok=tok.split()\n",
        "  vector=vectorize(tok)\n",
        "  seq.append(vector)\n",
        "seq=np.array(seq)\n",
        "print(np.shape(seq))"
      ],
      "execution_count": 12,
      "outputs": [
        {
          "output_type": "stream",
          "name": "stdout",
          "text": [
            "(100000, 957)\n"
          ]
        }
      ]
    },
    {
      "cell_type": "markdown",
      "metadata": {
        "id": "f6SKzInCaffE"
      },
      "source": [
        "**Fit DT model**"
      ]
    },
    {
      "cell_type": "code",
      "metadata": {
        "colab": {
          "base_uri": "https://localhost:8080/"
        },
        "id": "16qMUF0xBM9m",
        "outputId": "621e0d4f-ef43-4b6b-a93f-c687a86fbabf"
      },
      "source": [
        "#Split Vectorized main Dataset:\n",
        "X_all = seq\n",
        "y_all = Y.astype(int)\n",
        "print(\"y_all=\", y_all)\n",
        "print( \"X_all size: \",X_all.shape)\n",
        "print(\"y_all size: \",y_all.shape)\n",
        "X_train, X_test, y_train, y_test = train_test_split(X_all, y_all, test_size=0.3, random_state=16)\n",
        "\n",
        "print(\"Train: %d - Test: %d\" %(X_train.shape[0],X_test.shape[0]))"
      ],
      "execution_count": 13,
      "outputs": [
        {
          "output_type": "stream",
          "name": "stdout",
          "text": [
            "y_all= [0 1 0 ... 1 0 0]\n",
            "X_all size:  (100000, 957)\n",
            "y_all size:  (100000,)\n",
            "Train: 70000 - Test: 30000\n"
          ]
        }
      ]
    },
    {
      "cell_type": "code",
      "metadata": {
        "colab": {
          "base_uri": "https://localhost:8080/"
        },
        "id": "4pBdIytHTZg6",
        "outputId": "90a967c3-614d-4fb9-ece5-80d30c8dce91"
      },
      "source": [
        "#Train DT model:\n",
        "start = time.time()\n",
        "modelDT = tree.DecisionTreeClassifier()\n",
        "modelDT.fit(X_train, y_train)\n",
        "print (\"Computaion time of DT \",time.time()- start)"
      ],
      "execution_count": 14,
      "outputs": [
        {
          "output_type": "stream",
          "name": "stdout",
          "text": [
            "Computaion time of DT  7.090618133544922\n"
          ]
        }
      ]
    },
    {
      "cell_type": "markdown",
      "metadata": {
        "id": "4GWVzm63xbI8"
      },
      "source": [
        "**Fit RF model**"
      ]
    },
    {
      "cell_type": "code",
      "metadata": {
        "colab": {
          "base_uri": "https://localhost:8080/"
        },
        "id": "ag3wBrsIQK1A",
        "outputId": "f66e284f-43b8-4276-f143-d533a37dcab7"
      },
      "source": [
        "#Train RF model:\n",
        "start=time.time()\n",
        "modelRF = RandomForestClassifier(random_state=5)\n",
        "modelRF.fit(X_train, y_train)\n",
        "print (\"Computaion time of RF \",time.time()- start)"
      ],
      "execution_count": 16,
      "outputs": [
        {
          "output_type": "stream",
          "name": "stdout",
          "text": [
            "Computaion time of RF  46.41435670852661\n"
          ]
        }
      ]
    },
    {
      "cell_type": "markdown",
      "metadata": {
        "id": "W1Y0A91Pxyc4"
      },
      "source": [
        "**Evaluation of DT model:**"
      ]
    },
    {
      "cell_type": "code",
      "metadata": {
        "colab": {
          "base_uri": "https://localhost:8080/"
        },
        "id": "syeUATDPCjwE",
        "outputId": "e790f77d-7b6b-4800-e2cc-51d704053cec"
      },
      "source": [
        "#Evaluation of DT model:\n",
        "#predict on test set\n",
        "y_pred_DT = modelDT.predict(X_test)\n",
        "print('Correct Prediction (%): ', accuracy_score(y_test, y_pred_DT, normalize=True)*100.0)\n",
        "print(confusion_matrix(y_test, y_pred_DT))\n",
        "report=classification_report(y_test, y_pred_DT)\n",
        "print(report)"
      ],
      "execution_count": 17,
      "outputs": [
        {
          "output_type": "stream",
          "name": "stdout",
          "text": [
            "Correct Prediction (%):  92.43\n",
            "[[13905  1052]\n",
            " [ 1219 13824]]\n",
            "              precision    recall  f1-score   support\n",
            "\n",
            "           0       0.92      0.93      0.92     14957\n",
            "           1       0.93      0.92      0.92     15043\n",
            "\n",
            "    accuracy                           0.92     30000\n",
            "   macro avg       0.92      0.92      0.92     30000\n",
            "weighted avg       0.92      0.92      0.92     30000\n",
            "\n"
          ]
        }
      ]
    },
    {
      "cell_type": "markdown",
      "metadata": {
        "id": "pPyrSBp-x3yx"
      },
      "source": [
        "**confusion_matrix of DT model**"
      ]
    },
    {
      "cell_type": "code",
      "metadata": {
        "colab": {
          "base_uri": "https://localhost:8080/",
          "height": 470
        },
        "id": "rHE5AVakmw_Z",
        "outputId": "b79657dd-a73e-43b3-9371-341cb638821d"
      },
      "source": [
        "cmDT = confusion_matrix(y_test, y_pred_DT, labels=None, sample_weight=None)\n",
        "print(cmDT)\n",
        "plt.rcParams[\"figure.figsize\"] = (6,6)\n",
        "plot_confusion_matrix(y_test, y_pred_DT, classes=class_names, normalize=False)"
      ],
      "execution_count": 18,
      "outputs": [
        {
          "output_type": "stream",
          "name": "stdout",
          "text": [
            "[[13905  1052]\n",
            " [ 1219 13824]]\n"
          ]
        },
        {
          "output_type": "execute_result",
          "data": {
            "text/plain": [
              "<matplotlib.axes._subplots.AxesSubplot at 0x7fe815dadf50>"
            ]
          },
          "metadata": {},
          "execution_count": 18
        },
        {
          "output_type": "display_data",
          "data": {
            "image/png": "[encoded data removed]",
            "text/plain": [
              "<Figure size 432x432 with 2 Axes>"
            ]
          },
          "metadata": {
            "needs_background": "light"
          }
        }
      ]
    },
    {
      "cell_type": "markdown",
      "metadata": {
        "id": "kySv0r_8x9iF"
      },
      "source": [
        "**Evaluation of RF model:**"
      ]
    },
    {
      "cell_type": "code",
      "metadata": {
        "colab": {
          "base_uri": "https://localhost:8080/"
        },
        "id": "WWh_QIBiULiV",
        "outputId": "cda5a2e2-1d36-408e-9b38-4346674d5b3b"
      },
      "source": [
        "#Evaluation of RF model:\n",
        "#predict on test set\n",
        "y_pred_RF = modelRF.predict(X_test)\n",
        "print('Correct Prediction (%): ', accuracy_score(y_test, y_pred_RF, normalize=True)*100.0)\n",
        "print(confusion_matrix(y_test, y_pred_RF))\n",
        "report = classification_report(y_test, y_pred_RF)\n",
        "print(report)"
      ],
      "execution_count": 19,
      "outputs": [
        {
          "output_type": "stream",
          "name": "stdout",
          "text": [
            "Correct Prediction (%):  96.02666666666667\n",
            "[[14637   320]\n",
            " [  872 14171]]\n",
            "              precision    recall  f1-score   support\n",
            "\n",
            "           0       0.94      0.98      0.96     14957\n",
            "           1       0.98      0.94      0.96     15043\n",
            "\n",
            "    accuracy                           0.96     30000\n",
            "   macro avg       0.96      0.96      0.96     30000\n",
            "weighted avg       0.96      0.96      0.96     30000\n",
            "\n"
          ]
        }
      ]
    },
    {
      "cell_type": "markdown",
      "metadata": {
        "id": "ElVDfR-ZyCii"
      },
      "source": [
        "**confusion_matrix of RF model**"
      ]
    },
    {
      "cell_type": "code",
      "metadata": {
        "colab": {
          "base_uri": "https://localhost:8080/",
          "height": 470
        },
        "id": "TxNPrLf9QMH_",
        "outputId": "e9239f88-f286-4e10-a6b2-107f42cab763"
      },
      "source": [
        "cmRF = confusion_matrix(y_test, y_pred_RF, labels=None, sample_weight=None)\n",
        "print(cmRF)\n",
        "plt.rcParams[\"figure.figsize\"] = (6,6)\n",
        "plot_confusion_matrix(y_test, y_pred_RF, classes=class_names, normalize=False)"
      ],
      "execution_count": 20,
      "outputs": [
        {
          "output_type": "stream",
          "name": "stdout",
          "text": [
            "[[14637   320]\n",
            " [  872 14171]]\n"
          ]
        },
        {
          "output_type": "execute_result",
          "data": {
            "text/plain": [
              "<matplotlib.axes._subplots.AxesSubplot at 0x7fe805852790>"
            ]
          },
          "metadata": {},
          "execution_count": 20
        },
        {
          "output_type": "display_data",
          "data": {
            "image/png": "[encoded data removed]",
            "text/plain": [
              "<Figure size 432x432 with 2 Axes>"
            ]
          },
          "metadata": {
            "needs_background": "light"
          }
        }
      ]
    },
    {
      "cell_type": "markdown",
      "metadata": {
        "id": "EdxK353-aTqf"
      },
      "source": [
        "**PREPROCESS Blind set**"
      ]
    },
    {
      "cell_type": "code",
      "metadata": {
        "colab": {
          "base_uri": "https://localhost:8080/"
        },
        "id": "Q3uTbPgwXL6m",
        "outputId": "3a74576b-49df-4e6a-e3a1-0d96b05d1ba6"
      },
      "source": [
        "dataset_blind=np.array(db_blind)\n",
        "X_blind=dataset_blind[:,0:2]\n",
        "print(X_blind[58])"
      ],
      "execution_count": 21,
      "outputs": [
        {
          "output_type": "stream",
          "name": "stdout",
          "text": [
            "['movl 0 l 45 2 ' 'int32t  l  45 2  = 0 ;']\n"
          ]
        }
      ]
    },
    {
      "cell_type": "code",
      "metadata": {
        "colab": {
          "base_uri": "https://localhost:8080/"
        },
        "id": "EZKUDct509rw",
        "outputId": "d377f6bd-1a4e-4814-f4b7-66d05f3ca9fb"
      },
      "source": [
        "#Vectorize blind Dataset: (With the use of Main data Vocab)\n",
        "seq_blind=[]\n",
        "for sentence in X_blind:\n",
        "  tok=sentence[0]+sentence[1]\n",
        "  tok=tok.lower()\n",
        "  tok=tok.split()\n",
        "  vector=vectorize(tok)\n",
        "  seq_blind.append(vector)\n",
        "seq_blind=np.array(seq_blind)\n",
        "print(np.shape(seq_blind))"
      ],
      "execution_count": 22,
      "outputs": [
        {
          "output_type": "stream",
          "name": "stdout",
          "text": [
            "(10000, 957)\n"
          ]
        }
      ]
    },
    {
      "cell_type": "markdown",
      "metadata": {
        "id": "kZXlzpWQdiMV"
      },
      "source": [
        "**Blind set Prediction**"
      ]
    },
    {
      "cell_type": "code",
      "metadata": {
        "colab": {
          "base_uri": "https://localhost:8080/"
        },
        "id": "XWNkZrheZvno",
        "outputId": "bfcc7b33-d6ba-4974-cf52-d6815ea01cf2"
      },
      "source": [
        "#Predict Blind dataset with DT:\n",
        "y_pred_blind_DT = modelDT.predict(seq_blind)\n",
        "print(np.shape(y_pred_blind_DT))\n",
        "print(y_pred_blind_DT[0:100])\n",
        "np.count_nonzero(y_pred_blind_DT)"
      ],
      "execution_count": 23,
      "outputs": [
        {
          "output_type": "stream",
          "name": "stdout",
          "text": [
            "(10000,)\n",
            "[1 0 0 0 0 1 1 1 1 1 1 1 1 0 1 0 0 0 0 1 0 1 1 1 0 1 0 0 0 0 0 0 0 1 1 0 1\n",
            " 0 1 0 0 0 0 1 0 0 0 0 0 0 1 0 0 1 0 0 1 0 0 0 0 1 0 1 0 1 0 1 1 1 1 0 1 0\n",
            " 1 1 0 0 1 0 1 1 1 1 1 0 0 1 1 1 1 0 1 1 0 0 1 0 0 1]\n"
          ]
        },
        {
          "output_type": "execute_result",
          "data": {
            "text/plain": [
              "4894"
            ]
          },
          "metadata": {},
          "execution_count": 23
        }
      ]
    },
    {
      "cell_type": "code",
      "metadata": {
        "colab": {
          "base_uri": "https://localhost:8080/"
        },
        "id": "-g0yyJpKUe26",
        "outputId": "94cf4f8c-c2eb-407a-c001-cd47e4150d4b"
      },
      "source": [
        "#Predict Blind dataset with RF:\n",
        "y_pred_blind_RF = modelRF.predict(seq_blind)\n",
        "print(np.shape(y_pred_blind_RF))\n",
        "print(y_pred_blind_RF[0:100])\n",
        "np.count_nonzero(y_pred_blind_RF)"
      ],
      "execution_count": 24,
      "outputs": [
        {
          "output_type": "stream",
          "name": "stdout",
          "text": [
            "(10000,)\n",
            "[1 0 0 0 0 1 1 1 1 1 1 1 1 0 1 0 0 0 0 1 0 1 1 1 0 1 0 0 0 0 0 0 0 1 1 0 1\n",
            " 0 1 0 1 0 1 1 0 0 0 1 0 0 1 0 0 1 0 0 1 0 0 0 0 1 0 1 0 1 0 1 1 1 1 0 1 0\n",
            " 1 1 0 0 1 0 1 1 1 1 1 0 0 1 1 1 1 0 1 1 0 1 1 0 0 1]\n"
          ]
        },
        {
          "output_type": "execute_result",
          "data": {
            "text/plain": [
              "4746"
            ]
          },
          "metadata": {},
          "execution_count": 24
        }
      ]
    },
    {
      "cell_type": "markdown",
      "metadata": {
        "id": "yWfxHyIyyQbm"
      },
      "source": [
        "**compare the result of prediction by 2 models:**"
      ]
    },
    {
      "cell_type": "code",
      "metadata": {
        "colab": {
          "base_uri": "https://localhost:8080/"
        },
        "id": "yTsJdfhVUvkX",
        "outputId": "3e7c7d4e-5490-496c-a7a4-8f3a832b1d03"
      },
      "source": [
        "#To compare the result of prediction by 2 models:\n",
        "err= y_pred_blind_DT+y_pred_blind_RF\n",
        "count_arr = np.bincount(err)\n",
        "print(\"The number of non similar predictions is \", count_arr[1], \" out of \", np.shape(err)[0], \" predctins \")\n",
        "print(\"The percentage of agreement is \", 1-count_arr[1]/np.shape(err)[0], \" % \")"
      ],
      "execution_count": 25,
      "outputs": [
        {
          "output_type": "stream",
          "name": "stdout",
          "text": [
            "The number of non similar predictions is  734  out of  10000  predctins \n",
            "The percentage of agreement is  0.9266  % \n"
          ]
        }
      ]
    },
    {
      "cell_type": "markdown",
      "metadata": {
        "id": "7OkXUJB3yUg8"
      },
      "source": [
        " K-Fold Cross Validation \n",
        "\n",
        " "
      ]
    },
    {
      "cell_type": "code",
      "metadata": {
        "id": "IrxPaAovtV3z",
        "colab": {
          "base_uri": "https://localhost:8080/"
        },
        "outputId": "d95090bf-d397-49fb-efa4-d12c7a72293b"
      },
      "source": [
        "#K-Fold Cross Validation \n",
        "cv = ShuffleSplit(n_splits=5, test_size=0.333, random_state=15)\n",
        "scoresDT = cross_val_score(modelDT, X_all, y_all, cv=cv)\n",
        "print(scoresDT)\n",
        "print(\"Accuracy: %0.3f (+/- %0.4f)\" % (scoresDT.mean(), scoresDT.std() * 2))"
      ],
      "execution_count": 26,
      "outputs": [
        {
          "output_type": "stream",
          "name": "stdout",
          "text": [
            "[0.92222222 0.92189189 0.92273273 0.92429429 0.91894895]\n",
            "Accuracy: 0.922 (+/- 0.0035)\n"
          ]
        }
      ]
    },
    {
      "cell_type": "markdown",
      "metadata": {
        "id": "9n98TGqRymdR"
      },
      "source": [
        ""
      ]
    },
    {
      "cell_type": "code",
      "metadata": {
        "colab": {
          "base_uri": "https://localhost:8080/"
        },
        "id": "A1DlTXcnzssW",
        "outputId": "2a5783ae-6222-4bb1-c9f5-56bc121e1702"
      },
      "source": [
        "#K-Fold Cross Validation \n",
        "cv = ShuffleSplit(n_splits=5, test_size=0.333, random_state=15)\n",
        "scoresRF = cross_val_score(modelRF, X_all, y_all, cv=cv)\n",
        "print(scoresRF)\n",
        "print(\"Accuracy: %0.3f (+/- %0.4f)\" % (scoresRF.mean(), scoresRF.std() * 2))"
      ],
      "execution_count": 30,
      "outputs": [
        {
          "output_type": "stream",
          "name": "stdout",
          "text": [
            "[0.95786787 0.95828829 0.96015015 0.95927928 0.956997  ]\n",
            "Accuracy: 0.959 (+/- 0.0022)\n"
          ]
        }
      ]
    },
    {
      "cell_type": "markdown",
      "metadata": {
        "id": "9h9CtslwhvLi"
      },
      "source": [
        "⚖ **Hyper Parameters tuning**"
      ]
    },
    {
      "cell_type": "code",
      "metadata": {
        "colab": {
          "base_uri": "https://localhost:8080/"
        },
        "id": "S6bxmoO2CPc8",
        "outputId": "6dd1e846-c939-4d3c-af2d-f406369e903f"
      },
      "source": [
        "print(\"depth=\",modelDT.get_depth())\n",
        "print(\"leaves=\",modelDT.get_n_leaves())\n",
        "modelDT.get_params()"
      ],
      "execution_count": 31,
      "outputs": [
        {
          "output_type": "stream",
          "name": "stdout",
          "text": [
            "depth= 110\n",
            "leaves= 4586\n"
          ]
        },
        {
          "output_type": "execute_result",
          "data": {
            "text/plain": [
              "{'ccp_alpha': 0.0,\n",
              " 'class_weight': None,\n",
              " 'criterion': 'gini',\n",
              " 'max_depth': None,\n",
              " 'max_features': None,\n",
              " 'max_leaf_nodes': None,\n",
              " 'min_impurity_decrease': 0.0,\n",
              " 'min_samples_leaf': 1,\n",
              " 'min_samples_split': 2,\n",
              " 'min_weight_fraction_leaf': 0.0,\n",
              " 'random_state': None,\n",
              " 'splitter': 'best'}"
            ]
          },
          "metadata": {},
          "execution_count": 31
        }
      ]
    },
    {
      "cell_type": "code",
      "metadata": {
        "colab": {
          "base_uri": "https://localhost:8080/"
        },
        "id": "xUXkXia-_2Ug",
        "outputId": "a318f587-ac2b-43f5-8e2c-86edd6a79d6e"
      },
      "source": [
        "param_dict = {\"min_samples_split\":range(2,4), \"min_samples_leaf\":range(1,4) }\n",
        "\n",
        "grid = GridSearchCV(modelDT,param_grid=param_dict, cv=5,verbose=1,n_jobs=-1) \n",
        "grid.fit(X_train,y_train) "
      ],
      "execution_count": 39,
      "outputs": [
        {
          "output_type": "stream",
          "name": "stdout",
          "text": [
            "Fitting 5 folds for each of 6 candidates, totalling 30 fits\n"
          ]
        },
        {
          "output_type": "execute_result",
          "data": {
            "text/plain": [
              "GridSearchCV(cv=5, estimator=DecisionTreeClassifier(), n_jobs=-1,\n",
              "             param_grid={'min_samples_leaf': range(1, 4),\n",
              "                         'min_samples_split': range(2, 4)},\n",
              "             verbose=1)"
            ]
          },
          "metadata": {},
          "execution_count": 39
        }
      ]
    },
    {
      "cell_type": "code",
      "metadata": {
        "colab": {
          "base_uri": "https://localhost:8080/"
        },
        "id": "5FG-rbGVViGg",
        "outputId": "97fe986f-8534-4ca5-b920-f6f288875ec0"
      },
      "source": [
        "grid.best_params_"
      ],
      "execution_count": 40,
      "outputs": [
        {
          "output_type": "execute_result",
          "data": {
            "text/plain": [
              "{'min_samples_leaf': 3, 'min_samples_split': 3}"
            ]
          },
          "metadata": {},
          "execution_count": 40
        }
      ]
    },
    {
      "cell_type": "code",
      "metadata": {
        "colab": {
          "base_uri": "https://localhost:8080/"
        },
        "id": "7l6Tpb4dyk6W",
        "outputId": "e817ec8a-8223-41d1-edd7-996b73354088"
      },
      "source": [
        "grid.best_score_"
      ],
      "execution_count": 41,
      "outputs": [
        {
          "output_type": "execute_result",
          "data": {
            "text/plain": [
              "0.9228142857142856"
            ]
          },
          "metadata": {},
          "execution_count": 41
        }
      ]
    },
    {
      "cell_type": "code",
      "metadata": {
        "id": "JLEnR12Xf6BV"
      },
      "source": [
        "f = open(\"/content/drive/My Drive/MLHomeWork/1950716-DT.txt\", \"w\",encoding='utf-8')\n",
        "f.writelines([str(y_pred_blind_DT[i])+\"\\r\\n\" for i in range(len(y_pred_blind_DT))])\n",
        "f.close() "
      ],
      "execution_count": 151,
      "outputs": []
    },
    {
      "cell_type": "code",
      "metadata": {
        "id": "pjGdrj7Hq-yr"
      },
      "source": [
        "f = open(\"/content/drive/My Drive/MLHomeWork/1950716-RF.txt\", \"w\",encoding='utf-8')\n",
        "f.writelines([str(y_pred_blind_RF[i])+\"\\r\\n\" for i in range(len(y_pred_blind_RF))])\n",
        "f.close() "
      ],
      "execution_count": 152,
      "outputs": []
    },
    {
      "cell_type": "code",
      "metadata": {
        "id": "N2MhdU5zrkkm"
      },
      "source": [
        ""
      ],
      "execution_count": null,
      "outputs": []
    }
  ]
}